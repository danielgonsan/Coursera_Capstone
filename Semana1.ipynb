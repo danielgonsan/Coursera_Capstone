{
 "cells": [
  {
   "cell_type": "markdown",
   "id": "bb34165a-b769-4f31-b13d-b934832d0266",
   "metadata": {},
   "source": [
    "# Coursera_Capstone - Semana 1"
   ]
  },
  {
   "cell_type": "markdown",
   "id": "b3d70f0d-8da1-456e-aea5-82b3f4c75a04",
   "metadata": {},
   "source": [
    "<h2>Daniel González"
   ]
  },
  {
   "cell_type": "markdown",
   "id": "d4981e83-b68b-47e0-950d-c9bf113da7e7",
   "metadata": {},
   "source": [
    "<h3>¡Hola, Proyecto Final del Curso!"
   ]
  },
  {
   "cell_type": "markdown",
   "id": "2bb016e0-77c4-4511-8160-6b07e6e2758c",
   "metadata": {},
   "source": [
    "Este notebook se utilizará principalmente para el proyecto final."
   ]
  },
  {
   "cell_type": "markdown",
   "id": "428f1b0b-3654-4f9d-87a0-ac1780795939",
   "metadata": {},
   "source": [
    "Importar módulos primarios:"
   ]
  },
  {
   "cell_type": "code",
   "execution_count": 1,
   "id": "687e50e0-ceb1-4a65-987b-ba0766184069",
   "metadata": {},
   "outputs": [],
   "source": [
    "import numpy as np  # es útil para muchos cálculos científicos en Python \n",
    "import pandas as pd # biblioteca primaria de estructura de datos"
   ]
  }
 ],
 "metadata": {
  "kernelspec": {
   "display_name": "Python 3 (ipykernel)",
   "language": "python",
   "name": "python3"
  },
  "language_info": {
   "codemirror_mode": {
    "name": "ipython",
    "version": 3
   },
   "file_extension": ".py",
   "mimetype": "text/x-python",
   "name": "python",
   "nbconvert_exporter": "python",
   "pygments_lexer": "ipython3",
   "version": "3.9.7"
  }
 },
 "nbformat": 4,
 "nbformat_minor": 5
}
