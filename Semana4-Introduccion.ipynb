{
 "cells": [
  {
   "cell_type": "markdown",
   "id": "48ac4b8d-958b-4c95-b43d-d49ac75d910a",
   "metadata": {},
   "source": [
    "<h1>Introducción / Problema Comercial"
   ]
  },
  {
   "cell_type": "markdown",
   "id": "d412e9f2-39af-4fdc-a21d-024826935aa3",
   "metadata": {},
   "source": [
    "<h2> Los restaurantes del Sr. Artega"
   ]
  },
  {
   "cell_type": "markdown",
   "id": "df40af3c-c3f8-4900-b34d-d3b7031cedff",
   "metadata": {},
   "source": [
    "<h3> IBM - Curso 9 - Semana 4 - Daniel González"
   ]
  },
  {
   "cell_type": "markdown",
   "id": "4181872d-0120-4869-be23-240f0aafe186",
   "metadata": {},
   "source": [
    "La Rioja es una Comunidad Autónoma del norte de España muy conocida por la producción de sus buenos vinos y productos de la agricultura y la ganadería. Aun así, no se conocen mucho ciertos productos en la propia comunidad. Amancio Artega, un gran empresario riojano, desea instalar dos restaurantes de tres tenedores en la misma comunidad autónoma, situados en sitios que puedan abarcar toda la región.\n",
    "\n",
    "Se concreta una reunión con el Sr. Artega y se expresa lo deseado y las limitaciones del proyecto.\n",
    "\n",
    "Los procesos para el desarrollo del proyecto son:\n",
    "\n",
    "1. Búsqueda de todos los municipios de la Comunidad Autónoma de La Rioja en wikipedia, obteniendo las coordenadas de cada municipio (longitud y latitud).\n",
    "2. Diseño del dataframe, con limpieza y validación de datos.\n",
    "3. Uso de foursquare para la localización de restaurantes en la región para comprobar la factivilidad del proyecto y comprobar la necesidad de construir los restaurantes.\n",
    "4. Uso de agrupación mediante k-means con k=2, ya que se requieren 2 restaurantes.\n",
    "5. Conclusión con los municipios seleccionados."
   ]
  }
 ],
 "metadata": {
  "kernelspec": {
   "display_name": "Python 3 (ipykernel)",
   "language": "python",
   "name": "python3"
  },
  "language_info": {
   "codemirror_mode": {
    "name": "ipython",
    "version": 3
   },
   "file_extension": ".py",
   "mimetype": "text/x-python",
   "name": "python",
   "nbconvert_exporter": "python",
   "pygments_lexer": "ipython3",
   "version": "3.9.7"
  }
 },
 "nbformat": 4,
 "nbformat_minor": 5
}
